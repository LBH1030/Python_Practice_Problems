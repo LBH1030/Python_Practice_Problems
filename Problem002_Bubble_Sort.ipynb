{
 "cells": [
  {
   "cell_type": "markdown",
   "metadata": {},
   "source": [
    "Bubble Sort"
   ]
  },
  {
   "cell_type": "code",
   "execution_count": 80,
   "metadata": {},
   "outputs": [],
   "source": [
    "input_list_0 = [1]\n",
    "input_list_1 = [2,1]\n",
    "input_list_2 = [3,2,1]\n",
    "input_list_3 = [8,6,4,2,7,5,3,1]"
   ]
  },
  {
   "cell_type": "code",
   "execution_count": 81,
   "metadata": {
    "collapsed": true
   },
   "outputs": [],
   "source": [
    "def list_swap (mylist, a, b):\n",
    "    tmp = mylist [a]\n",
    "    mylist[a] = mylist[b]\n",
    "    mylist[b] = tmp\n",
    "    return "
   ]
  },
  {
   "cell_type": "code",
   "execution_count": 82,
   "metadata": {},
   "outputs": [],
   "source": [
    "def bubble_sort (input_list):\n",
    "    list_length = len(input_list)\n",
    "    if list_length < 2 :\n",
    "        print(\"no sort needed\")\n",
    "        return\n",
    "    output_list = list(input_list)\n",
    "    print(\"start sorting {}\".format(output_list))\n",
    "    for i in range(0,list_length-1):\n",
    "        for j in range(0, list_length-i-1):\n",
    "            if(output_list[j] > output_list[j+1]):\n",
    "                print(\"swap {} {}\".format(output_list[j],output_list[j+1]))\n",
    "                list_swap(output_list, j, j+1)            \n",
    "                print(output_list)\n",
    "    print(\"end sort\")            \n",
    "    return output_list"
   ]
  },
  {
   "cell_type": "code",
   "execution_count": 85,
   "metadata": {},
   "outputs": [
    {
     "name": "stdout",
     "output_type": "stream",
     "text": [
      "start sorting [3, 2, 1]\n",
      "swap 3 2\n",
      "[2, 3, 1]\n",
      "swap 3 1\n",
      "[2, 1, 3]\n",
      "swap 2 1\n",
      "[1, 2, 3]\n",
      "end sort\n"
     ]
    },
    {
     "data": {
      "text/plain": [
       "[1, 2, 3]"
      ]
     },
     "execution_count": 85,
     "metadata": {},
     "output_type": "execute_result"
    }
   ],
   "source": [
    "bubble_sort(input_list_2)"
   ]
  },
  {
   "cell_type": "code",
   "execution_count": 86,
   "metadata": {},
   "outputs": [
    {
     "name": "stdout",
     "output_type": "stream",
     "text": [
      "start sorting [8, 6, 4, 2, 7, 5, 3, 1]\n",
      "swap 8 6\n",
      "[6, 8, 4, 2, 7, 5, 3, 1]\n",
      "swap 8 4\n",
      "[6, 4, 8, 2, 7, 5, 3, 1]\n",
      "swap 8 2\n",
      "[6, 4, 2, 8, 7, 5, 3, 1]\n",
      "swap 8 7\n",
      "[6, 4, 2, 7, 8, 5, 3, 1]\n",
      "swap 8 5\n",
      "[6, 4, 2, 7, 5, 8, 3, 1]\n",
      "swap 8 3\n",
      "[6, 4, 2, 7, 5, 3, 8, 1]\n",
      "swap 8 1\n",
      "[6, 4, 2, 7, 5, 3, 1, 8]\n",
      "swap 6 4\n",
      "[4, 6, 2, 7, 5, 3, 1, 8]\n",
      "swap 6 2\n",
      "[4, 2, 6, 7, 5, 3, 1, 8]\n",
      "swap 7 5\n",
      "[4, 2, 6, 5, 7, 3, 1, 8]\n",
      "swap 7 3\n",
      "[4, 2, 6, 5, 3, 7, 1, 8]\n",
      "swap 7 1\n",
      "[4, 2, 6, 5, 3, 1, 7, 8]\n",
      "swap 4 2\n",
      "[2, 4, 6, 5, 3, 1, 7, 8]\n",
      "swap 6 5\n",
      "[2, 4, 5, 6, 3, 1, 7, 8]\n",
      "swap 6 3\n",
      "[2, 4, 5, 3, 6, 1, 7, 8]\n",
      "swap 6 1\n",
      "[2, 4, 5, 3, 1, 6, 7, 8]\n",
      "swap 5 3\n",
      "[2, 4, 3, 5, 1, 6, 7, 8]\n",
      "swap 5 1\n",
      "[2, 4, 3, 1, 5, 6, 7, 8]\n",
      "swap 4 3\n",
      "[2, 3, 4, 1, 5, 6, 7, 8]\n",
      "swap 4 1\n",
      "[2, 3, 1, 4, 5, 6, 7, 8]\n",
      "swap 3 1\n",
      "[2, 1, 3, 4, 5, 6, 7, 8]\n",
      "swap 2 1\n",
      "[1, 2, 3, 4, 5, 6, 7, 8]\n",
      "end sort\n"
     ]
    },
    {
     "data": {
      "text/plain": [
       "[1, 2, 3, 4, 5, 6, 7, 8]"
      ]
     },
     "execution_count": 86,
     "metadata": {},
     "output_type": "execute_result"
    }
   ],
   "source": [
    "bubble_sort(input_list_3)"
   ]
  },
  {
   "cell_type": "code",
   "execution_count": null,
   "metadata": {
    "collapsed": true
   },
   "outputs": [],
   "source": []
  }
 ],
 "metadata": {
  "kernelspec": {
   "display_name": "Python 3",
   "language": "python",
   "name": "python3"
  },
  "language_info": {
   "codemirror_mode": {
    "name": "ipython",
    "version": 3
   },
   "file_extension": ".py",
   "mimetype": "text/x-python",
   "name": "python",
   "nbconvert_exporter": "python",
   "pygments_lexer": "ipython3",
   "version": "3.6.3"
  }
 },
 "nbformat": 4,
 "nbformat_minor": 2
}
