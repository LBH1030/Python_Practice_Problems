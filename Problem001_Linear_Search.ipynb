{
 "cells": [
  {
   "cell_type": "code",
   "execution_count": 68,
   "metadata": {},
   "outputs": [
    {
     "name": "stdout",
     "output_type": "stream",
     "text": [
      "['2', '1', '55', '-22', '63', '-342', '208']\n"
     ]
    }
   ],
   "source": [
    "input_str = \"2 1 55 -22 63 -342 208\"\n",
    "input_list = input_str.split()\n",
    "print(input_list)"
   ]
  },
  {
   "cell_type": "code",
   "execution_count": 69,
   "metadata": {},
   "outputs": [],
   "source": [
    "def list_max(input_list): \n",
    "    tmpMax=int(input_list[0])\n",
    "    for i in input_list:\n",
    "        print(\"evaluating i {} tmpMax {}\".format(i,tmpMax))\n",
    "        if(int(i)>int(tmpMax)):\n",
    "            tmpMax = i\n",
    "            print(\"newMax {}\".format(tmpMax))\n",
    "    return tmpMax"
   ]
  },
  {
   "cell_type": "code",
   "execution_count": 70,
   "metadata": {},
   "outputs": [
    {
     "name": "stdout",
     "output_type": "stream",
     "text": [
      "evaluating i 2 tmpMax 2\n",
      "evaluating i 1 tmpMax 2\n",
      "evaluating i 55 tmpMax 2\n",
      "newMax 55\n",
      "evaluating i -22 tmpMax 55\n",
      "evaluating i 63 tmpMax 55\n",
      "newMax 63\n",
      "evaluating i -342 tmpMax 63\n",
      "evaluating i 208 tmpMax 63\n",
      "newMax 208\n"
     ]
    },
    {
     "data": {
      "text/plain": [
       "'208'"
      ]
     },
     "execution_count": 70,
     "metadata": {},
     "output_type": "execute_result"
    }
   ],
   "source": [
    "list_max(input_list)"
   ]
  },
  {
   "cell_type": "code",
   "execution_count": null,
   "metadata": {
    "collapsed": true
   },
   "outputs": [],
   "source": []
  }
 ],
 "metadata": {
  "kernelspec": {
   "display_name": "Python 3",
   "language": "python",
   "name": "python3"
  },
  "language_info": {
   "codemirror_mode": {
    "name": "ipython",
    "version": 3
   },
   "file_extension": ".py",
   "mimetype": "text/x-python",
   "name": "python",
   "nbconvert_exporter": "python",
   "pygments_lexer": "ipython3",
   "version": "3.6.3"
  }
 },
 "nbformat": 4,
 "nbformat_minor": 2
}
