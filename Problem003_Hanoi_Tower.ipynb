{
 "cells": [
  {
   "cell_type": "code",
   "execution_count": 15,
   "metadata": {},
   "outputs": [],
   "source": [
    "const_hanoi_max_size = 10\n",
    "size = 4\n",
    "Tower_A = []\n",
    "Tower_B = []\n",
    "Tower_C = []"
   ]
  },
  {
   "cell_type": "code",
   "execution_count": 16,
   "metadata": {},
   "outputs": [],
   "source": [
    "def print_hanoi ():\n",
    "    print(\"A: {} B: {} C:{}\".format(Tower_A,Tower_B,Tower_C))\n",
    "    return"
   ]
  },
  {
   "cell_type": "code",
   "execution_count": 17,
   "metadata": {},
   "outputs": [],
   "source": [
    "def make_hanoi_list(size,source,aux,dest):\n",
    "    if type(size) != int :\n",
    "        print(\"please input integer\")\n",
    "        return False\n",
    "    if size > const_hanoi_max_size :\n",
    "        print(\"Size too large\")\n",
    "        return False\n",
    "    del source[:]\n",
    "    for i in range(size) :\n",
    "        source.append(size-i)   \n",
    "    del aux[:]\n",
    "    del dest[:]\n",
    "    return True"
   ]
  },
  {
   "cell_type": "code",
   "execution_count": 18,
   "metadata": {
    "collapsed": true
   },
   "outputs": [],
   "source": [
    "def move_disk(source, dest):\n",
    "    dest.append(source.pop())  \n",
    "    return    "
   ]
  },
  {
   "cell_type": "code",
   "execution_count": 19,
   "metadata": {},
   "outputs": [],
   "source": [
    "def hanoi(height, source, aux, dest) :            \n",
    "    if height == 1:        \n",
    "        move_disk(source,dest)     \n",
    "        print_hanoi()\n",
    "    else:\n",
    "        hanoi(height-1,source,dest,aux)\n",
    "        move_disk(source,dest)\n",
    "        print_hanoi()\n",
    "        hanoi(height-1,aux,source,dest)\n",
    "    return"
   ]
  },
  {
   "cell_type": "code",
   "execution_count": 20,
   "metadata": {},
   "outputs": [
    {
     "name": "stdout",
     "output_type": "stream",
     "text": [
      "A: [4, 3, 2, 1] B: [] C:[]\n",
      "A: [4, 3, 2] B: [1] C:[]\n",
      "A: [4, 3] B: [1] C:[2]\n",
      "A: [4, 3] B: [] C:[2, 1]\n",
      "A: [4] B: [3] C:[2, 1]\n",
      "A: [4, 1] B: [3] C:[2]\n",
      "A: [4, 1] B: [3, 2] C:[]\n",
      "A: [4] B: [3, 2, 1] C:[]\n",
      "A: [] B: [3, 2, 1] C:[4]\n",
      "A: [] B: [3, 2] C:[4, 1]\n",
      "A: [2] B: [3] C:[4, 1]\n",
      "A: [2, 1] B: [3] C:[4]\n",
      "A: [2, 1] B: [] C:[4, 3]\n",
      "A: [2] B: [1] C:[4, 3]\n",
      "A: [] B: [1] C:[4, 3, 2]\n",
      "A: [] B: [] C:[4, 3, 2, 1]\n"
     ]
    }
   ],
   "source": [
    "make_hanoi_list(size,Tower_A,Tower_B,Tower_C)\n",
    "print_hanoi()        \n",
    "hanoi(size,Tower_A,Tower_B,Tower_C)"
   ]
  },
  {
   "cell_type": "code",
   "execution_count": null,
   "metadata": {
    "collapsed": true
   },
   "outputs": [],
   "source": []
  }
 ],
 "metadata": {
  "kernelspec": {
   "display_name": "Python 3",
   "language": "python",
   "name": "python3"
  },
  "language_info": {
   "codemirror_mode": {
    "name": "ipython",
    "version": 3
   },
   "file_extension": ".py",
   "mimetype": "text/x-python",
   "name": "python",
   "nbconvert_exporter": "python",
   "pygments_lexer": "ipython3",
   "version": "3.6.3"
  }
 },
 "nbformat": 4,
 "nbformat_minor": 2
}
